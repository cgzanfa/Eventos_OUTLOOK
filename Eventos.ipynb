{
 "cells": [
  {
   "cell_type": "code",
   "execution_count": 1,
   "id": "7f87040b",
   "metadata": {},
   "outputs": [
    {
     "name": "stdout",
     "output_type": "stream",
     "text": [
      "Eventos creados y correos enviados en Outlook.\n"
     ]
    }
   ],
   "source": [
    "import pandas as pd\n",
    "import win32com.client as win32\n",
    "from datetime import datetime, timedelta\n",
    "from datetime import date\n",
    "import pytz\n",
    "\n",
    "# Leer el archivo Excel\n",
    "df = pd.read_excel('Eventos.xlsx')\n",
    "\n",
    "# Inicializar la aplicación de Outlook\n",
    "outlook = win32.Dispatch('outlook.application')\n",
    "\n",
    "\n",
    "# Definir la zona horaria local\n",
    "local_tz = pytz.timezone('America/Argentina/Buenos_Aires')\n",
    "\n",
    "# Recorrer cada fila en el DataFrame\n",
    "for index, row in df.iterrows():\n",
    "    # Crear un nuevo evento en el calendario\n",
    "    appointment = outlook.CreateItem(1) # 1 = olAppointmentItem\n",
    "    appointment.Subject = row['Asunto']  # Ajusta esto según tus columnas\n",
    "    \n",
    "    # Combinar fecha y hora\n",
    "    fecha_hora_str = f\"{row['Fecha']} {row['Hora']}\"\n",
    "    # Convertir la cadena a datetime con el formato correcto\n",
    "    fecha_hora = datetime.strptime(fecha_hora_str, \"%d/%m/%Y %H:%M:%S\")\n",
    "    \n",
    "    fecha_hora = fecha_hora - timedelta(hours=3)\n",
    "    # Localizar la fecha y hora en la zona horaria local\n",
    "    fecha_hora = local_tz.localize(fecha_hora)\n",
    "    # Convertir a la zona horaria de UTC\n",
    "    fecha_hora_utc = fecha_hora.astimezone(pytz.utc)\n",
    "    appointment.Start = fecha_hora_utc\n",
    "    \n",
    "    appointment.Duration = 30           # Duración en minutos\n",
    "    appointment.ReminderSet = True\n",
    "    appointment.ReminderMinutesBeforeStart = 15  # Ajusta el tiempo de recordatorio\n",
    "    appointment.Body = f\"Recordatorio de vencimiento\\n\\nDetalles: {row['Detalles']}\"\n",
    "\n",
    "    # Añadir los destinatarios\n",
    "    recipients = row['Destinatarios'].split(';')\n",
    "    for recipient in recipients:\n",
    "        appointment.Recipients.Add(recipient.strip())\n",
    "\n",
    "    appointment.Save()\n",
    "\n",
    "print(\"Eventos creados y correos enviados en Outlook.\")\n"
   ]
  },
  {
   "cell_type": "code",
   "execution_count": null,
   "id": "20d23f70",
   "metadata": {},
   "outputs": [],
   "source": []
  }
 ],
 "metadata": {
  "kernelspec": {
   "display_name": "Python 3",
   "language": "python",
   "name": "python3"
  },
  "language_info": {
   "codemirror_mode": {
    "name": "ipython",
    "version": 3
   },
   "file_extension": ".py",
   "mimetype": "text/x-python",
   "name": "python",
   "nbconvert_exporter": "python",
   "pygments_lexer": "ipython3",
   "version": "3.8.8"
  }
 },
 "nbformat": 4,
 "nbformat_minor": 5
}
